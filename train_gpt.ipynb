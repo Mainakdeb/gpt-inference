{
  "cells": [
    {
      "cell_type": "code",
      "source": [
        "from google.colab import drive\n",
        "drive.mount('/content/drive')"
      ],
      "metadata": {
        "id": "9hCu4zEhnXFb"
      },
      "execution_count": null,
      "outputs": []
    },
    {
      "cell_type": "code",
      "execution_count": null,
      "metadata": {
        "id": "t97Sgt9SrU-r"
      },
      "outputs": [],
      "source": [
        "!pip install transformers\n",
        "!rm -rf gpt-inference/\n",
        "!git clone https://github.com/Mainakdeb/train-gpt.git\n",
        "!cp -r /content/train-gpt/gpt/ /content/\n",
        "\n",
        "!wget https://raw.githubusercontent.com/karpathy/char-rnn/master/data/tinyshakespeare/input.txt\n",
        "!wget https://raw.githubusercontent.com/urschrei/lovecraft/master/lovecraft.txt"
      ]
    },
    {
      "cell_type": "code",
      "execution_count": null,
      "metadata": {
        "id": "UOy8dh6VU8fS"
      },
      "outputs": [],
      "source": [
        "import numpy as np\n",
        "import torch\n",
        "import torchvision\n",
        "import torch.nn as nn\n",
        "from torch.nn import functional as F\n",
        "from torch.utils.data import Dataset\n",
        "device = \"cuda\" if torch.cuda.is_available() else \"cpu\"\n",
        "\n",
        "from transformers import AutoTokenizer\n",
        "from gpt.model import GPT, GPTConfig, GPT1Config\n",
        "from gpt.trainer import Trainer, TrainerConfig\n",
        "from gpt.utils import sample\n",
        "from gpt.dataloader import WordDataset\n",
        "\n",
        "# make deterministic\n",
        "from gpt.utils import set_seed\n",
        "set_seed(42)"
      ]
    },
    {
      "cell_type": "code",
      "execution_count": null,
      "metadata": {
        "id": "vJtJW6GjW_xu"
      },
      "outputs": [],
      "source": [
        "tokenizer = AutoTokenizer.from_pretrained('gpt2')\n",
        "\n",
        "mconf = GPTConfig(vocab_size=tokenizer.vocab_size, \n",
        "                  block_size=128,\n",
        "                  embd_pdrop=0.0, \n",
        "                  resid_pdrop=0.0, \n",
        "                  attn_pdrop=0.0,\n",
        "                  n_layer=12, \n",
        "                  n_head=12, \n",
        "                  n_embd=768)\n",
        "\n",
        "model = GPT(mconf)\n",
        "_ = model.eval()"
      ]
    },
    {
      "cell_type": "code",
      "execution_count": null,
      "metadata": {
        "id": "kNfQsJu8Oyo5"
      },
      "outputs": [],
      "source": [
        "block_size = 128 \n",
        "text = open('lovecraft.txt', 'r').read() \n",
        "train_dataset = WordDataset(text, block_size)"
      ]
    },
    {
      "cell_type": "code",
      "execution_count": null,
      "metadata": {
        "id": "vEEnNlivOymy"
      },
      "outputs": [],
      "source": [
        "mconf = GPTConfig(tokenizer.vocab_size, train_dataset.block_size,\n",
        "                  n_layer=8, n_head=8, n_embd=512)\n",
        "\n",
        "model = GPT(mconf).to(device)\n",
        "# model = torch.load(\"/content/drive/MyDrive/gpt_models/gpt_lovecraft_3.pth\")"
      ]
    },
    {
      "cell_type": "code",
      "source": [
        "# initialize a trainer instance and kick off training\n",
        "tconf = TrainerConfig(max_epochs=1, batch_size=64, learning_rate=6e-4,\n",
        "                      lr_decay=True, warmup_tokens=512*20, final_tokens=2*len(train_dataset)*block_size,\n",
        "                      num_workers=2)\n",
        "\n",
        "trainer = Trainer(model, train_dataset, None, tconf)\n",
        "trainer.train()"
      ],
      "metadata": {
        "id": "WWQg2sVa2m2g"
      },
      "execution_count": null,
      "outputs": []
    },
    {
      "cell_type": "code",
      "execution_count": null,
      "metadata": {
        "id": "_tFW-cSGXF5F"
      },
      "outputs": [],
      "source": [
        "context = \"The trees seemed to grow out of\" \n",
        "x = torch.tensor(tokenizer(context)['input_ids'], dtype=torch.long)[None,...].to(trainer.device)\n",
        "y = sample(model, x, 100, temperature=1.0, sample=True, top_k=10)[0]\n",
        "completion = ''.join(tokenizer.decode(y))\n",
        "print(completion)"
      ]
    },
    {
      "cell_type": "code",
      "execution_count": null,
      "metadata": {
        "id": "Dsc1kP-A6-Gc"
      },
      "outputs": [],
      "source": [
        ""
      ]
    }
  ],
  "metadata": {
    "colab": {
      "collapsed_sections": [],
      "name": "train-gpt.ipynb",
      "provenance": []
    },
    "kernelspec": {
      "display_name": "Python 3",
      "name": "python3"
    },
    "language_info": {
      "name": "python"
    },
    "gpuClass": "standard",
    "accelerator": "GPU"
  },
  "nbformat": 4,
  "nbformat_minor": 0
}