{
  "cells": [
    {
      "cell_type": "code",
      "execution_count": null,
      "metadata": {
        "id": "t97Sgt9SrU-r"
      },
      "outputs": [],
      "source": [
        "!pip install transformers\n",
        "!rm -rf gpt-inference/\n",
        "!git clone https://github.com/Mainakdeb/train-gpt.git\n",
        "!cp -r /content/gpt-inference/gpt/ /content/\n",
        "\n",
        "!wget https://raw.githubusercontent.com/karpathy/char-rnn/master/data/tinyshakespeare/input.txt\n",
        "!wget https://raw.githubusercontent.com/urschrei/lovecraft/master/lovecraft.txt"
      ]
    },
    {
      "cell_type": "code",
      "execution_count": null,
      "metadata": {
        "id": "UOy8dh6VU8fS"
      },
      "outputs": [],
      "source": [
        "import numpy as np\n",
        "import torch\n",
        "import torchvision\n",
        "import torch.nn as nn\n",
        "from torch.nn import functional as F\n",
        "from torch.utils.data import Dataset\n",
        "device = \"cuda\" if torch.cuda.is_available() else \"cpu\"\n",
        "\n",
        "from transformers import AutoTokenizer\n",
        "from gpt.model import GPT, GPTConfig, GPT1Config\n",
        "from gpt.trainer import Trainer, TrainerConfig\n",
        "from gpt.utils import sample\n",
        "\n",
        "# make deterministic\n",
        "from gpt.utils import set_seed\n",
        "set_seed(42)"
      ]
    },
    {
      "cell_type": "code",
      "execution_count": null,
      "metadata": {
        "id": "vJtJW6GjW_xu"
      },
      "outputs": [],
      "source": [
        "mconf = GPTConfig(vocab_size=50257, \n",
        "                  block_size=128,\n",
        "                  embd_pdrop=0.0, \n",
        "                  resid_pdrop=0.0, \n",
        "                  attn_pdrop=0.0,\n",
        "                  n_layer=12, \n",
        "                  n_head=12, \n",
        "                  n_embd=768)\n",
        "\n",
        "model = GPT(mconf)\n",
        "_ = model.eval()\n",
        "\n",
        "tokenizer = AutoTokenizer.from_pretrained('gpt2')"
      ]
    },
    {
      "cell_type": "code",
      "execution_count": null,
      "metadata": {
        "id": "3IJ3pDaOOxP2"
      },
      "outputs": [],
      "source": [
        "class WordDataset(Dataset):\n",
        "\n",
        "    def __init__(self, data, block_size):\n",
        "        self.tokenized_words = tokenizer(data)['input_ids']\n",
        "        print('tokenized words shape',len(self.tokenized_words))\n",
        "        unique = sorted(list(set(self.tokenized_words)))\n",
        "        data_size, vocab_size = len(self.tokenized_words), len(unique)\n",
        "        print('data has %d words, %d unique.' % (data_size, vocab_size))\n",
        "        \n",
        "        self.block_size = block_size\n",
        "        self.vocab_size = vocab_size\n",
        "    \n",
        "    def __len__(self):\n",
        "        return len(self.tokenized_words) - self.block_size\n",
        "\n",
        "    def __getitem__(self, idx):\n",
        "        # grab a chunk of (block_size + 1) characters from the data\n",
        "        chunk = self.tokenized_words[idx:idx + self.block_size + 1]\n",
        "        x = torch.tensor(chunk[:-1], dtype=torch.long)\n",
        "        y = torch.tensor(chunk[1:], dtype=torch.long)\n",
        "\n",
        "        return x, y"
      ]
    },
    {
      "cell_type": "code",
      "execution_count": null,
      "metadata": {
        "id": "kNfQsJu8Oyo5"
      },
      "outputs": [],
      "source": [
        "block_size = 128 # spatial extent of the model for its context\n",
        "text = open('lovecraft.txt', 'r').read() # don't worry we won't run out of file handles\n",
        "train_dataset = WordDataset(text, block_size)"
      ]
    },
    {
      "cell_type": "code",
      "execution_count": null,
      "metadata": {
        "id": "vEEnNlivOymy"
      },
      "outputs": [],
      "source": [
        "mconf = GPTConfig(tokenizer.vocab_size, train_dataset.block_size,\n",
        "                  n_layer=8, n_head=8, n_embd=512)\n",
        "\n",
        "model = GPT(mconf).to(device)"
      ]
    },
    {
      "cell_type": "code",
      "source": [
        "# initialize a trainer instance and kick off training\n",
        "tconf = TrainerConfig(max_epochs=1, batch_size=64, learning_rate=6e-4,\n",
        "                      lr_decay=True, warmup_tokens=512*20, final_tokens=2*len(train_dataset)*block_size,\n",
        "                      num_workers=2)\n",
        "\n",
        "trainer = Trainer(model, train_dataset, None, tconf)\n",
        "trainer.train()"
      ],
      "metadata": {
        "id": "WWQg2sVa2m2g"
      },
      "execution_count": null,
      "outputs": []
    },
    {
      "cell_type": "code",
      "execution_count": null,
      "metadata": {
        "id": "_tFW-cSGXF5F"
      },
      "outputs": [],
      "source": [
        "context = \"The trees seemed\" \n",
        "x = torch.tensor(tokenizer(context)['input_ids'], dtype=torch.long)[None,...].to(trainer.device)\n",
        "y = sample(model, x, 100, temperature=1.0, sample=True, top_k=10)[0]\n",
        "# print(y)\n",
        "completion = ''.join(tokenizer.decode(y))\n",
        "print(completion)"
      ]
    },
    {
      "cell_type": "code",
      "execution_count": null,
      "metadata": {
        "id": "Dsc1kP-A6-Gc"
      },
      "outputs": [],
      "source": [
        ""
      ]
    }
  ],
  "metadata": {
    "colab": {
      "collapsed_sections": [],
      "name": "train-gpt.ipynb",
      "provenance": []
    },
    "kernelspec": {
      "display_name": "Python 3",
      "name": "python3"
    },
    "language_info": {
      "name": "python"
    },
    "gpuClass": "standard",
    "accelerator": "GPU"
  },
  "nbformat": 4,
  "nbformat_minor": 0
}